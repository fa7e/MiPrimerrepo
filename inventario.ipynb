{
  "nbformat": 4,
  "nbformat_minor": 0,
  "metadata": {
    "colab": {
      "provenance": [],
      "authorship_tag": "ABX9TyONRP1Jp/1aUdSUGVebbIWn",
      "include_colab_link": true
    },
    "kernelspec": {
      "name": "python3",
      "display_name": "Python 3"
    },
    "language_info": {
      "name": "python"
    }
  },
  "cells": [
    {
      "cell_type": "markdown",
      "metadata": {
        "id": "view-in-github",
        "colab_type": "text"
      },
      "source": [
        "<a href=\"https://colab.research.google.com/github/fa7e/MiPrimerrepo/blob/main/inventario.ipynb\" target=\"_parent\"><img src=\"https://colab.research.google.com/assets/colab-badge.svg\" alt=\"Open In Colab\"/></a>"
      ]
    },
    {
      "cell_type": "code",
      "execution_count": 3,
      "metadata": {
        "colab": {
          "base_uri": "https://localhost:8080/",
          "height": 104
        },
        "id": "-VOCTp2NNPcj",
        "outputId": "9fb2a8ce-e60b-4cf3-bcd8-20fe6cdf10c2"
      },
      "outputs": [
        {
          "output_type": "stream",
          "name": "stdout",
          "text": [
            "¿Cuántos Sku Tienes en esa Bodega? (Total de SKU´s): 209\n",
            "Ingrese el nombre del archivo: Apoquindo\n",
            "\n",
            "Tamaño de la muestra calculado: 37\n",
            "Archivo Excel generado: Inventario Cíclico de Bodega de Apoquindo Fecha: 2025-01-08.xlsx\n"
          ]
        },
        {
          "output_type": "display_data",
          "data": {
            "text/plain": [
              "<IPython.core.display.Javascript object>"
            ],
            "application/javascript": [
              "\n",
              "    async function download(id, filename, size) {\n",
              "      if (!google.colab.kernel.accessAllowed) {\n",
              "        return;\n",
              "      }\n",
              "      const div = document.createElement('div');\n",
              "      const label = document.createElement('label');\n",
              "      label.textContent = `Downloading \"${filename}\": `;\n",
              "      div.appendChild(label);\n",
              "      const progress = document.createElement('progress');\n",
              "      progress.max = size;\n",
              "      div.appendChild(progress);\n",
              "      document.body.appendChild(div);\n",
              "\n",
              "      const buffers = [];\n",
              "      let downloaded = 0;\n",
              "\n",
              "      const channel = await google.colab.kernel.comms.open(id);\n",
              "      // Send a message to notify the kernel that we're ready.\n",
              "      channel.send({})\n",
              "\n",
              "      for await (const message of channel.messages) {\n",
              "        // Send a message to notify the kernel that we're ready.\n",
              "        channel.send({})\n",
              "        if (message.buffers) {\n",
              "          for (const buffer of message.buffers) {\n",
              "            buffers.push(buffer);\n",
              "            downloaded += buffer.byteLength;\n",
              "            progress.value = downloaded;\n",
              "          }\n",
              "        }\n",
              "      }\n",
              "      const blob = new Blob(buffers, {type: 'application/binary'});\n",
              "      const a = document.createElement('a');\n",
              "      a.href = window.URL.createObjectURL(blob);\n",
              "      a.download = filename;\n",
              "      div.appendChild(a);\n",
              "      a.click();\n",
              "      div.remove();\n",
              "    }\n",
              "  "
            ]
          },
          "metadata": {}
        },
        {
          "output_type": "display_data",
          "data": {
            "text/plain": [
              "<IPython.core.display.Javascript object>"
            ],
            "application/javascript": [
              "download(\"download_50563c4f-59a1-4cac-a804-9112944492e2\", \"Inventario C\\u00edclico de Bodega de Apoquindo Fecha: 2025-01-08.xlsx\", 5240)"
            ]
          },
          "metadata": {}
        }
      ],
      "source": [
        "from google.colab import files\n",
        "import random\n",
        "import math\n",
        "import pandas as pd\n",
        "from datetime import datetime\n",
        "\n",
        "# Función para calcular el tamaño de la muestra\n",
        "def calcular_tamano_muestra(poblacion, confianza=0.90, error=0.10):\n",
        "    # Nivel de confianza (z)\n",
        "    if confianza == 0.90:\n",
        "        z = 1.645  # Nivel Z para 90%\n",
        "    elif confianza == 0.95:\n",
        "        z = 1.96  # Nivel Z para 95%\n",
        "    elif confianza == 0.99:\n",
        "        z = 2.58  # Nivel Z para 99%\n",
        "    else:\n",
        "        raise ValueError(\"Solo se admite un nivel de confianza del 90%, 95% o 99%\")\n",
        "\n",
        "    # Parámetros de proporción esperada y error muestral\n",
        "    p = 0.8  # Proporción esperada\n",
        "    q = 1 - p  # Complemento de la proporción\n",
        "    e = error  # Error muestral\n",
        "\n",
        "    # Fórmula para el tamaño de muestra (ajustada para población finita)\n",
        "    n_infinita = (z**2 * p * q) / (e**2)\n",
        "    n_finita = n_infinita / (1 + ((n_infinita - 1) / poblacion))\n",
        "\n",
        "    return math.ceil(n_finita)  # Redondear hacia arriba\n",
        "\n",
        "# Solicitar el número de ubicaciones\n",
        "total_ubicaciones = int(input(\"¿Cuántos Sku Tienes en esa Bodega? (Total de SKU´s): \"))\n",
        "if total_ubicaciones <= 0:\n",
        "    raise ValueError(\"El número de ubicaciones debe ser mayor que cero.\")\n",
        "\n",
        "# Calcular el tamaño de la muestra\n",
        "tamano_muestra = calcular_tamano_muestra(total_ubicaciones, confianza=0.90)\n",
        "\n",
        "# Generar números aleatorios correspondientes al tamaño de la muestra\n",
        "muestra = random.sample(range(1, total_ubicaciones + 1), tamano_muestra)\n",
        "\n",
        "# Obtener la fecha actual\n",
        "fecha_actual = datetime.now().strftime(\"%Y-%m-%d\")\n",
        "\n",
        "# Crear un DataFrame con los datos\n",
        "data = {\n",
        "    \"Ubicacion\": muestra\n",
        "}\n",
        "df = pd.DataFrame(data)\n",
        "\n",
        "# Guardar el DataFrame en un archivo Excel con la fecha en el nombre\n",
        "\n",
        "nombre_aponer = input(\"Ingrese el nombre del archivo: \")\n",
        "nombre_archivo = f\"Inventario Cíclico de Bodega de {nombre_aponer} Fecha: {fecha_actual}.xlsx\"\n",
        "df.to_excel(nombre_archivo, index=False)\n",
        "\n",
        "# Mostrar resultados\n",
        "print(f\"\\nTamaño de la muestra calculado: {tamano_muestra}\")\n",
        "print(f\"Archivo Excel generado: {nombre_archivo}\")\n",
        "\n",
        "# Desc  argar el archivo\n",
        "files.download(nombre_archivo)\n",
        "\n",
        "\n",
        "\n",
        "\n",
        "\n",
        "\n",
        "\n"
      ]
    }
  ]
}